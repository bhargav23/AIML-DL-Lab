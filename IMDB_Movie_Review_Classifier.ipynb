{
  "cells": [
    {
      "cell_type": "markdown",
      "metadata": {
        "id": "view-in-github",
        "colab_type": "text"
      },
      "source": [
        "<a href=\"https://colab.research.google.com/github/bhargav23/AIML-DL-Lab/blob/main/IMDB_Movie_Review_Classifier.ipynb\" target=\"_parent\"><img src=\"https://colab.research.google.com/assets/colab-badge.svg\" alt=\"Open In Colab\"/></a>"
      ]
    },
    {
      "cell_type": "markdown",
      "source": [
        "**2. Design a neural network for classifying movie reviews (Binary Classification)using IMDB dataset.**"
      ],
      "metadata": {
        "id": "AeLJgPUjvmBo"
      }
    },
    {
      "cell_type": "code",
      "source": [
        "import tensorflow as tf\n",
        "from tensorflow import keras\n",
        "from keras.datasets import imdb\n",
        "from keras.preprocessing.sequence import pad_sequences\n",
        "from keras.models import Sequential\n",
        "from keras.layers import Embedding, GlobalAveragePooling1D, Dense, Dropout"
      ],
      "outputs": [],
      "execution_count": 1,
      "metadata": {
        "id": "5U2-Q-zNuBoK"
      }
    },
    {
      "cell_type": "code",
      "source": [
        "# --- 1. Define Parameters ---\n",
        "# The vocabulary size. We will only consider the top 10,000 most common words.\n",
        "VOCAB_SIZE = 10000\n",
        "# The maximum length of a review (in words). Reviews longer than this will be truncated.\n",
        "MAX_LEN = 256\n",
        "# The dimension of the word embedding vector.\n",
        "EMBEDDING_DIM = 16\n",
        "# The size of the batches for training.\n",
        "BATCH_SIZE = 512\n",
        "# The number of epochs to train for.\n",
        "EPOCHS = 10"
      ],
      "metadata": {
        "id": "CfMRUobMuRtT"
      },
      "execution_count": 2,
      "outputs": []
    },
    {
      "cell_type": "code",
      "source": [
        "# --- 2. Load and Preprocess the Data ---\n",
        "print(\"Loading IMDB dataset...\")\n",
        "# Load the dataset, keeping only the top `VOCAB_SIZE` most frequent words.\n",
        "# The data is already pre-tokenized, with each word represented by an integer.\n",
        "(train_data, train_labels), (test_data, test_labels) = imdb.load_data(num_words=VOCAB_SIZE)\n",
        "\n",
        "print(f\"Number of training sequences: {len(train_data)}\")\n",
        "print(f\"Number of testing sequences: {len(test_data)}\")\n",
        "\n",
        "# Pad the sequences to ensure they all have the same length (`MAX_LEN`).\n",
        "# Shorter reviews will be padded with 0s, and longer ones will be truncated.\n",
        "print(\"Padding sequences...\")\n",
        "train_data = pad_sequences(train_data, maxlen=MAX_LEN, padding='post', truncating='post')\n",
        "test_data = pad_sequences(test_data, maxlen=MAX_LEN, padding='post', truncating='post')\n",
        "\n",
        "print(f\"Shape of training data after padding: {train_data.shape}\")\n",
        "print(f\"Shape of testing data after padding: {test_data.shape}\")"
      ],
      "metadata": {
        "colab": {
          "base_uri": "https://localhost:8080/"
        },
        "id": "PCWQfzzJuXFy",
        "outputId": "1d70a3f9-f4b1-495d-88e5-1796a1203472"
      },
      "execution_count": 3,
      "outputs": [
        {
          "output_type": "stream",
          "name": "stdout",
          "text": [
            "Loading IMDB dataset...\n",
            "Downloading data from https://storage.googleapis.com/tensorflow/tf-keras-datasets/imdb.npz\n",
            "\u001b[1m17464789/17464789\u001b[0m \u001b[32m━━━━━━━━━━━━━━━━━━━━\u001b[0m\u001b[37m\u001b[0m \u001b[1m0s\u001b[0m 0us/step\n",
            "Number of training sequences: 25000\n",
            "Number of testing sequences: 25000\n",
            "Padding sequences...\n",
            "Shape of training data after padding: (25000, 256)\n",
            "Shape of testing data after padding: (25000, 256)\n"
          ]
        }
      ]
    },
    {
      "cell_type": "code",
      "source": [
        "# --- 3. Build the Neural Network Model ---\n",
        "print(\"Building the model...\")\n",
        "model = Sequential([\n",
        "    # 1. Embedding Layer: This layer takes the integer-encoded vocabulary\n",
        "    # and looks up the embedding vector for each word-index. These vectors are\n",
        "    # learned as the model trains.\n",
        "    Embedding(input_dim=VOCAB_SIZE, output_dim=EMBEDDING_DIM, input_length=MAX_LEN),\n",
        "\n",
        "    # 2. GlobalAveragePooling1D: This layer returns a fixed-length output vector\n",
        "    # for each example by averaging over the sequence dimension. This is a simple\n",
        "    # way to handle variable-length inputs.\n",
        "    GlobalAveragePooling1D(),\n",
        "\n",
        "    # 3. Hidden Dense Layer: A standard fully-connected layer with ReLU activation.\n",
        "    # It learns higher-level patterns from the features extracted by previous layers.\n",
        "    Dense(16, activation='relu'),\n",
        "\n",
        "    # 4. Dropout Layer: Helps prevent overfitting by randomly setting a fraction\n",
        "    # of input units to 0 at each update during training time.\n",
        "    Dropout(0.5),\n",
        "\n",
        "    # 5. Output Layer: A single neuron with a sigmoid activation function.\n",
        "    # The output is a float between 0 and 1, representing the probability\n",
        "    # that the review is positive.\n",
        "    Dense(1, activation='sigmoid')\n",
        "])"
      ],
      "metadata": {
        "colab": {
          "base_uri": "https://localhost:8080/"
        },
        "id": "ikcNMdMCucok",
        "outputId": "b9e218d0-d0a9-4521-cb01-931b377b69ee"
      },
      "execution_count": 4,
      "outputs": [
        {
          "output_type": "stream",
          "name": "stdout",
          "text": [
            "Building the model...\n"
          ]
        },
        {
          "output_type": "stream",
          "name": "stderr",
          "text": [
            "/usr/local/lib/python3.11/dist-packages/keras/src/layers/core/embedding.py:90: UserWarning: Argument `input_length` is deprecated. Just remove it.\n",
            "  warnings.warn(\n"
          ]
        }
      ]
    },
    {
      "cell_type": "code",
      "source": [
        "# --- 4. Compile the Model ---\n",
        "# We need to specify the optimizer, loss function, and metrics for the model.\n",
        "print(\"Compiling the model...\")\n",
        "model.compile(\n",
        "    optimizer='adam',\n",
        "    loss='binary_crossentropy', # Ideal for binary (0 or 1) classification problems.\n",
        "    metrics=['accuracy']\n",
        ")\n",
        "\n",
        "# Print a summary of the model's architecture\n",
        "model.summary()"
      ],
      "metadata": {
        "colab": {
          "base_uri": "https://localhost:8080/",
          "height": 322
        },
        "id": "v6c0-8Q_ulny",
        "outputId": "a18a4219-7042-4962-b7fb-cb1e6f6c50af"
      },
      "execution_count": 5,
      "outputs": [
        {
          "output_type": "stream",
          "name": "stdout",
          "text": [
            "Compiling the model...\n"
          ]
        },
        {
          "output_type": "display_data",
          "data": {
            "text/plain": [
              "\u001b[1mModel: \"sequential\"\u001b[0m\n"
            ],
            "text/html": [
              "<pre style=\"white-space:pre;overflow-x:auto;line-height:normal;font-family:Menlo,'DejaVu Sans Mono',consolas,'Courier New',monospace\"><span style=\"font-weight: bold\">Model: \"sequential\"</span>\n",
              "</pre>\n"
            ]
          },
          "metadata": {}
        },
        {
          "output_type": "display_data",
          "data": {
            "text/plain": [
              "┏━━━━━━━━━━━━━━━━━━━━━━━━━━━━━━━━━┳━━━━━━━━━━━━━━━━━━━━━━━━┳━━━━━━━━━━━━━━━┓\n",
              "┃\u001b[1m \u001b[0m\u001b[1mLayer (type)                   \u001b[0m\u001b[1m \u001b[0m┃\u001b[1m \u001b[0m\u001b[1mOutput Shape          \u001b[0m\u001b[1m \u001b[0m┃\u001b[1m \u001b[0m\u001b[1m      Param #\u001b[0m\u001b[1m \u001b[0m┃\n",
              "┡━━━━━━━━━━━━━━━━━━━━━━━━━━━━━━━━━╇━━━━━━━━━━━━━━━━━━━━━━━━╇━━━━━━━━━━━━━━━┩\n",
              "│ embedding (\u001b[38;5;33mEmbedding\u001b[0m)           │ ?                      │   \u001b[38;5;34m0\u001b[0m (unbuilt) │\n",
              "├─────────────────────────────────┼────────────────────────┼───────────────┤\n",
              "│ global_average_pooling1d        │ ?                      │             \u001b[38;5;34m0\u001b[0m │\n",
              "│ (\u001b[38;5;33mGlobalAveragePooling1D\u001b[0m)        │                        │               │\n",
              "├─────────────────────────────────┼────────────────────────┼───────────────┤\n",
              "│ dense (\u001b[38;5;33mDense\u001b[0m)                   │ ?                      │   \u001b[38;5;34m0\u001b[0m (unbuilt) │\n",
              "├─────────────────────────────────┼────────────────────────┼───────────────┤\n",
              "│ dropout (\u001b[38;5;33mDropout\u001b[0m)               │ ?                      │             \u001b[38;5;34m0\u001b[0m │\n",
              "├─────────────────────────────────┼────────────────────────┼───────────────┤\n",
              "│ dense_1 (\u001b[38;5;33mDense\u001b[0m)                 │ ?                      │   \u001b[38;5;34m0\u001b[0m (unbuilt) │\n",
              "└─────────────────────────────────┴────────────────────────┴───────────────┘\n"
            ],
            "text/html": [
              "<pre style=\"white-space:pre;overflow-x:auto;line-height:normal;font-family:Menlo,'DejaVu Sans Mono',consolas,'Courier New',monospace\">┏━━━━━━━━━━━━━━━━━━━━━━━━━━━━━━━━━┳━━━━━━━━━━━━━━━━━━━━━━━━┳━━━━━━━━━━━━━━━┓\n",
              "┃<span style=\"font-weight: bold\"> Layer (type)                    </span>┃<span style=\"font-weight: bold\"> Output Shape           </span>┃<span style=\"font-weight: bold\">       Param # </span>┃\n",
              "┡━━━━━━━━━━━━━━━━━━━━━━━━━━━━━━━━━╇━━━━━━━━━━━━━━━━━━━━━━━━╇━━━━━━━━━━━━━━━┩\n",
              "│ embedding (<span style=\"color: #0087ff; text-decoration-color: #0087ff\">Embedding</span>)           │ ?                      │   <span style=\"color: #00af00; text-decoration-color: #00af00\">0</span> (unbuilt) │\n",
              "├─────────────────────────────────┼────────────────────────┼───────────────┤\n",
              "│ global_average_pooling1d        │ ?                      │             <span style=\"color: #00af00; text-decoration-color: #00af00\">0</span> │\n",
              "│ (<span style=\"color: #0087ff; text-decoration-color: #0087ff\">GlobalAveragePooling1D</span>)        │                        │               │\n",
              "├─────────────────────────────────┼────────────────────────┼───────────────┤\n",
              "│ dense (<span style=\"color: #0087ff; text-decoration-color: #0087ff\">Dense</span>)                   │ ?                      │   <span style=\"color: #00af00; text-decoration-color: #00af00\">0</span> (unbuilt) │\n",
              "├─────────────────────────────────┼────────────────────────┼───────────────┤\n",
              "│ dropout (<span style=\"color: #0087ff; text-decoration-color: #0087ff\">Dropout</span>)               │ ?                      │             <span style=\"color: #00af00; text-decoration-color: #00af00\">0</span> │\n",
              "├─────────────────────────────────┼────────────────────────┼───────────────┤\n",
              "│ dense_1 (<span style=\"color: #0087ff; text-decoration-color: #0087ff\">Dense</span>)                 │ ?                      │   <span style=\"color: #00af00; text-decoration-color: #00af00\">0</span> (unbuilt) │\n",
              "└─────────────────────────────────┴────────────────────────┴───────────────┘\n",
              "</pre>\n"
            ]
          },
          "metadata": {}
        },
        {
          "output_type": "display_data",
          "data": {
            "text/plain": [
              "\u001b[1m Total params: \u001b[0m\u001b[38;5;34m0\u001b[0m (0.00 B)\n"
            ],
            "text/html": [
              "<pre style=\"white-space:pre;overflow-x:auto;line-height:normal;font-family:Menlo,'DejaVu Sans Mono',consolas,'Courier New',monospace\"><span style=\"font-weight: bold\"> Total params: </span><span style=\"color: #00af00; text-decoration-color: #00af00\">0</span> (0.00 B)\n",
              "</pre>\n"
            ]
          },
          "metadata": {}
        },
        {
          "output_type": "display_data",
          "data": {
            "text/plain": [
              "\u001b[1m Trainable params: \u001b[0m\u001b[38;5;34m0\u001b[0m (0.00 B)\n"
            ],
            "text/html": [
              "<pre style=\"white-space:pre;overflow-x:auto;line-height:normal;font-family:Menlo,'DejaVu Sans Mono',consolas,'Courier New',monospace\"><span style=\"font-weight: bold\"> Trainable params: </span><span style=\"color: #00af00; text-decoration-color: #00af00\">0</span> (0.00 B)\n",
              "</pre>\n"
            ]
          },
          "metadata": {}
        },
        {
          "output_type": "display_data",
          "data": {
            "text/plain": [
              "\u001b[1m Non-trainable params: \u001b[0m\u001b[38;5;34m0\u001b[0m (0.00 B)\n"
            ],
            "text/html": [
              "<pre style=\"white-space:pre;overflow-x:auto;line-height:normal;font-family:Menlo,'DejaVu Sans Mono',consolas,'Courier New',monospace\"><span style=\"font-weight: bold\"> Non-trainable params: </span><span style=\"color: #00af00; text-decoration-color: #00af00\">0</span> (0.00 B)\n",
              "</pre>\n"
            ]
          },
          "metadata": {}
        }
      ]
    },
    {
      "cell_type": "code",
      "source": [
        "# --- 5. Train the Model ---\n",
        "print(\"\\n--- Training the model ---\")\n",
        "# Create a validation set from the training data to monitor performance.\n",
        "x_val = train_data[:10000]\n",
        "partial_x_train = train_data[10000:]\n",
        "\n",
        "y_val = train_labels[:10000]\n",
        "partial_y_train = train_labels[10000:]\n",
        "\n",
        "# Train the model on the training data.\n",
        "history = model.fit(\n",
        "    partial_x_train,\n",
        "    partial_y_train,\n",
        "    epochs=EPOCHS,\n",
        "    batch_size=BATCH_SIZE,\n",
        "    validation_data=(x_val, y_val),\n",
        "    verbose=1\n",
        ")"
      ],
      "metadata": {
        "colab": {
          "base_uri": "https://localhost:8080/"
        },
        "id": "NGZwoVKLuogi",
        "outputId": "0490db3f-b762-4370-ddf2-a0b884438029"
      },
      "execution_count": 6,
      "outputs": [
        {
          "output_type": "stream",
          "name": "stdout",
          "text": [
            "\n",
            "--- Training the model ---\n",
            "Epoch 1/10\n",
            "\u001b[1m30/30\u001b[0m \u001b[32m━━━━━━━━━━━━━━━━━━━━\u001b[0m\u001b[37m\u001b[0m \u001b[1m2s\u001b[0m 27ms/step - accuracy: 0.5177 - loss: 0.6925 - val_accuracy: 0.6856 - val_loss: 0.6880\n",
            "Epoch 2/10\n",
            "\u001b[1m30/30\u001b[0m \u001b[32m━━━━━━━━━━━━━━━━━━━━\u001b[0m\u001b[37m\u001b[0m \u001b[1m1s\u001b[0m 21ms/step - accuracy: 0.5948 - loss: 0.6855 - val_accuracy: 0.6506 - val_loss: 0.6774\n",
            "Epoch 3/10\n",
            "\u001b[1m30/30\u001b[0m \u001b[32m━━━━━━━━━━━━━━━━━━━━\u001b[0m\u001b[37m\u001b[0m \u001b[1m1s\u001b[0m 20ms/step - accuracy: 0.6317 - loss: 0.6728 - val_accuracy: 0.6611 - val_loss: 0.6584\n",
            "Epoch 4/10\n",
            "\u001b[1m30/30\u001b[0m \u001b[32m━━━━━━━━━━━━━━━━━━━━\u001b[0m\u001b[37m\u001b[0m \u001b[1m1s\u001b[0m 22ms/step - accuracy: 0.6820 - loss: 0.6508 - val_accuracy: 0.7154 - val_loss: 0.6303\n",
            "Epoch 5/10\n",
            "\u001b[1m30/30\u001b[0m \u001b[32m━━━━━━━━━━━━━━━━━━━━\u001b[0m\u001b[37m\u001b[0m \u001b[1m1s\u001b[0m 21ms/step - accuracy: 0.7227 - loss: 0.6197 - val_accuracy: 0.7744 - val_loss: 0.5933\n",
            "Epoch 6/10\n",
            "\u001b[1m30/30\u001b[0m \u001b[32m━━━━━━━━━━━━━━━━━━━━\u001b[0m\u001b[37m\u001b[0m \u001b[1m1s\u001b[0m 20ms/step - accuracy: 0.7558 - loss: 0.5850 - val_accuracy: 0.8077 - val_loss: 0.5535\n",
            "Epoch 7/10\n",
            "\u001b[1m30/30\u001b[0m \u001b[32m━━━━━━━━━━━━━━━━━━━━\u001b[0m\u001b[37m\u001b[0m \u001b[1m1s\u001b[0m 33ms/step - accuracy: 0.7770 - loss: 0.5477 - val_accuracy: 0.8105 - val_loss: 0.5145\n",
            "Epoch 8/10\n",
            "\u001b[1m30/30\u001b[0m \u001b[32m━━━━━━━━━━━━━━━━━━━━\u001b[0m\u001b[37m\u001b[0m \u001b[1m1s\u001b[0m 35ms/step - accuracy: 0.7990 - loss: 0.5081 - val_accuracy: 0.8322 - val_loss: 0.4782\n",
            "Epoch 9/10\n",
            "\u001b[1m30/30\u001b[0m \u001b[32m━━━━━━━━━━━━━━━━━━━━\u001b[0m\u001b[37m\u001b[0m \u001b[1m1s\u001b[0m 21ms/step - accuracy: 0.8148 - loss: 0.4711 - val_accuracy: 0.8390 - val_loss: 0.4482\n",
            "Epoch 10/10\n",
            "\u001b[1m30/30\u001b[0m \u001b[32m━━━━━━━━━━━━━━━━━━━━\u001b[0m\u001b[37m\u001b[0m \u001b[1m1s\u001b[0m 22ms/step - accuracy: 0.8280 - loss: 0.4501 - val_accuracy: 0.8445 - val_loss: 0.4228\n"
          ]
        }
      ]
    },
    {
      "cell_type": "code",
      "source": [
        "# --- 6. Evaluate the Model ---\n",
        "print(\"\\n--- Evaluating the model ---\")\n",
        "# Evaluate the trained model on the test set.\n",
        "results = model.evaluate(test_data, test_labels, verbose=2)\n",
        "\n",
        "print(f\"\\nTest Loss: {results[0]:.4f}\")\n",
        "print(f\"Test Accuracy: {results[1]:.4f}\")\n",
        "\n",
        "# --- 7. Example Prediction ---\n",
        "# You can use the trained model to make predictions on new data.\n",
        "# Let's see the prediction for the first test review.\n",
        "prediction = model.predict(test_data[0:1])\n",
        "print(f\"\\nPrediction for first test review: {prediction[0][0]:.4f}\")\n",
        "print(f\"Actual label for first test review: {test_labels[0]}\")\n",
        "print(\"A prediction > 0.5 is considered positive, and <= 0.5 is negative.\")"
      ],
      "metadata": {
        "colab": {
          "base_uri": "https://localhost:8080/"
        },
        "id": "ZduyCdgDuqkz",
        "outputId": "6f248906-b898-4966-c548-5f74ebcbb223"
      },
      "execution_count": 7,
      "outputs": [
        {
          "output_type": "stream",
          "name": "stdout",
          "text": [
            "\n",
            "--- Evaluating the model ---\n",
            "782/782 - 1s - 2ms/step - accuracy: 0.8382 - loss: 0.4324\n",
            "\n",
            "Test Loss: 0.4324\n",
            "Test Accuracy: 0.8382\n",
            "\u001b[1m1/1\u001b[0m \u001b[32m━━━━━━━━━━━━━━━━━━━━\u001b[0m\u001b[37m\u001b[0m \u001b[1m0s\u001b[0m 73ms/step\n",
            "\n",
            "Prediction for first test review: 0.3738\n",
            "Actual label for first test review: 0\n",
            "A prediction > 0.5 is considered positive, and <= 0.5 is negative.\n"
          ]
        }
      ]
    }
  ],
  "metadata": {
    "colab": {
      "provenance": [],
      "include_colab_link": true
    },
    "kernelspec": {
      "display_name": "Python 3",
      "name": "python3"
    }
  },
  "nbformat": 4,
  "nbformat_minor": 0
}