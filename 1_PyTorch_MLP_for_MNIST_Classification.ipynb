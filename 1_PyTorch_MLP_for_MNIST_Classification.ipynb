{
  "cells": [
    {
      "cell_type": "markdown",
      "metadata": {
        "id": "view-in-github",
        "colab_type": "text"
      },
      "source": [
        "<a href=\"https://colab.research.google.com/github/bhargav23/AIML-DL-Lab/blob/main/2_PyTorch_MLP_for_MNIST_Classification.ipynb\" target=\"_parent\"><img src=\"https://colab.research.google.com/assets/colab-badge.svg\" alt=\"Open In Colab\"/></a>"
      ]
    },
    {
      "cell_type": "markdown",
      "source": [
        "**1. Implement multilayer perceptron algorithm for MNIST Hand written Digit Classification**"
      ],
      "metadata": {
        "id": "lEaBRdoYHtft"
      }
    },
    {
      "cell_type": "code",
      "source": [
        "import torch\n",
        "import torch.nn as nn\n",
        "import torch.optim as optim\n",
        "import torchvision\n",
        "import torchvision.transforms as transforms\n",
        "import matplotlib.pyplot as plt\n",
        "import numpy as np"
      ],
      "metadata": {
        "id": "XTNrd0SIF8pI"
      },
      "execution_count": null,
      "outputs": []
    },
    {
      "cell_type": "code",
      "source": [
        "# =============================================================================\n",
        "# 1. Device Configuration\n",
        "# =============================================================================\n",
        "# Check if a CUDA-enabled GPU is available, otherwise use the CPU.\n",
        "# This allows the model to leverage GPU acceleration for faster training.\n",
        "device = torch.device('cuda' if torch.cuda.is_available() else 'cpu')\n",
        "print(f\"Using device: {device}\")"
      ],
      "metadata": {
        "colab": {
          "base_uri": "https://localhost:8080/"
        },
        "id": "37ZYHP5kDtUY",
        "outputId": "2519e9a8-c008-46d2-cd74-9bf8146a058c"
      },
      "execution_count": null,
      "outputs": [
        {
          "output_type": "stream",
          "name": "stdout",
          "text": [
            "Using device: cpu\n"
          ]
        }
      ]
    },
    {
      "cell_type": "code",
      "source": [
        "# =============================================================================\n",
        "# 2. Hyperparameters\n",
        "# =============================================================================\n",
        "# Define the key parameters for our model and training process.\n",
        "input_size = 784  # Each MNIST image is 28x28 pixels, so 784 features when flattened.\n",
        "hidden_size1 = 512 # Number of neurons in the first hidden layer.\n",
        "hidden_size2 = 256 # Number of neurons in the second hidden layer.\n",
        "num_classes = 10    # There are 10 digits to classify (0 through 9).\n",
        "num_epochs = 15     # The number of times we'll iterate over the entire dataset.\n",
        "batch_size = 128    # The number of images to process in a single batch.\n",
        "learning_rate = 0.001 # The step size for the optimizer."
      ],
      "metadata": {
        "id": "eLGULxmLEhRq"
      },
      "execution_count": null,
      "outputs": []
    },
    {
      "cell_type": "code",
      "source": [
        "# =============================================================================\n",
        "# 3. Load and Prepare the MNIST Dataset\n",
        "# =============================================================================\n",
        "# Define a transform to normalize the data.\n",
        "# ToTensor() converts the images from PILImage format to PyTorch Tensors\n",
        "# and scales the pixel values from a [0, 255] range to a [0.0, 1.0] range.\n",
        "transform = transforms.Compose([\n",
        "    transforms.ToTensor(),\n",
        "    transforms.Normalize((0.5,), (0.5,)) # Normalize to [-1, 1] range\n",
        "])\n",
        "\n",
        "# Download and load the training dataset.\n",
        "train_dataset = torchvision.datasets.MNIST(root='./data',\n",
        "                                           train=True,\n",
        "                                           transform=transform,\n",
        "                                           download=True)\n",
        "\n",
        "# Download and load the test dataset.\n",
        "test_dataset = torchvision.datasets.MNIST(root='./data',\n",
        "                                          train=False,\n",
        "                                          transform=transform)\n",
        "\n",
        "# Create DataLoaders for both training and testing sets.\n",
        "# DataLoaders provide an iterable over the given dataset, handling batching,\n",
        "# shuffling, and parallel data loading.\n",
        "train_loader = torch.utils.data.DataLoader(dataset=train_dataset,\n",
        "                                           batch_size=batch_size,\n",
        "                                           shuffle=True)\n",
        "\n",
        "test_loader = torch.utils.data.DataLoader(dataset=test_dataset,\n",
        "                                          batch_size=batch_size,\n",
        "                                          shuffle=False)"
      ],
      "metadata": {
        "id": "WxsS3vCSElTa"
      },
      "execution_count": null,
      "outputs": []
    },
    {
      "cell_type": "code",
      "source": [
        "# =============================================================================\n",
        "# 4. Visualize a Batch of Training Data\n",
        "# =============================================================================\n",
        "# It's always a good practice to look at your data before training.\n",
        "def imshow(img):\n",
        "    \"\"\"Function to un-normalize and display an image.\"\"\"\n",
        "    img = img / 2 + 0.5  # Un-normalize\n",
        "    npimg = img.numpy()\n",
        "    plt.imshow(np.transpose(npimg, (1, 2, 0)))\n",
        "    plt.show()\n",
        "\n",
        "# Get one batch of training images\n",
        "dataiter = iter(train_loader)\n",
        "images, labels = next(dataiter)\n",
        "\n",
        "# Show images\n",
        "print(\"Visualizing a batch of training data:\")\n",
        "imshow(torchvision.utils.make_grid(images[:8])) # Show the first 8 images\n",
        "# Print labels for the first 8 images\n",
        "print('Labels: ', ' '.join(f'{labels[j]}' for j in range(8)))"
      ],
      "metadata": {
        "colab": {
          "base_uri": "https://localhost:8080/",
          "height": 165
        },
        "id": "QKhkumiyE3Hw",
        "outputId": "61c49371-75b8-4868-afed-f3285a0c2f93"
      },
      "execution_count": null,
      "outputs": [
        {
          "output_type": "stream",
          "name": "stdout",
          "text": [
            "Visualizing a batch of training data:\n"
          ]
        },
        {
          "output_type": "display_data",
          "data": {
            "text/plain": [
              "<Figure size 640x480 with 1 Axes>"
            ],
            "image/png": "[encoded data removed]"
          },
          "metadata": {}
        },
        {
          "output_type": "stream",
          "name": "stdout",
          "text": [
            "Labels:  3 4 6 5 6 8 4 0\n"
          ]
        }
      ]
    },
    {
      "cell_type": "code",
      "source": [
        "# =============================================================================\n",
        "# 5. Define the Neural Network (MLP)\n",
        "# =============================================================================\n",
        "# We define our network as a class that inherits from nn.Module.\n",
        "class NeuralNet(nn.Module):\n",
        "    def __init__(self, input_size, hidden_size1, hidden_size2, num_classes):\n",
        "        super(NeuralNet, self).__init__()\n",
        "        # Define the layers of the network\n",
        "        self.fc1 = nn.Linear(input_size, hidden_size1)\n",
        "        self.relu1 = nn.ReLU()\n",
        "        self.dropout1 = nn.Dropout(0.2)\n",
        "\n",
        "        self.fc2 = nn.Linear(hidden_size1, hidden_size2)\n",
        "        self.relu2 = nn.ReLU()\n",
        "        self.dropout2 = nn.Dropout(0.2)\n",
        "\n",
        "        self.fc3 = nn.Linear(hidden_size2, num_classes)\n",
        "\n",
        "    def forward(self, x):\n",
        "        # Define the forward pass of the network.\n",
        "        # This is where the data flows through the layers.\n",
        "        out = self.fc1(x)\n",
        "        out = self.relu1(out)\n",
        "        out = self.dropout1(out)\n",
        "\n",
        "        out = self.fc2(out)\n",
        "        out = self.relu2(out)\n",
        "        out = self.dropout2(out)\n",
        "\n",
        "        out = self.fc3(out)\n",
        "        # No softmax here because nn.CrossEntropyLoss applies it internally.\n",
        "        return out\n",
        "\n",
        "# Instantiate the model and move it to the configured device (GPU or CPU).\n",
        "model = NeuralNet(input_size, hidden_size1, hidden_size2, num_classes).to(device)\n",
        "\n"
      ],
      "metadata": {
        "id": "3D2zZjdCE8-S"
      },
      "execution_count": null,
      "outputs": []
    },
    {
      "cell_type": "code",
      "source": [
        "# =============================================================================\n",
        "# 6. Define Loss Function and Optimizer\n",
        "# =============================================================================\n",
        "# CrossEntropyLoss is well-suited for multi-class classification problems.\n",
        "# It combines nn.LogSoftmax and nn.NLLLoss in one single class.\n",
        "criterion = nn.CrossEntropyLoss()\n",
        "\n",
        "# The Adam optimizer is an effective and popular choice for training neural networks.\n",
        "optimizer = optim.Adam(model.parameters(), lr=learning_rate)"
      ],
      "metadata": {
        "id": "FNROtPpjE_ZY"
      },
      "execution_count": null,
      "outputs": []
    },
    {
      "cell_type": "code",
      "source": [
        "# =============================================================================\n",
        "# 7. Train the Model\n",
        "# =============================================================================\n",
        "print(\"\\nStarting training...\")\n",
        "n_total_steps = len(train_loader)\n",
        "for epoch in range(num_epochs):\n",
        "    # Set the model to training mode\n",
        "    model.train()\n",
        "    for i, (images, labels) in enumerate(train_loader):\n",
        "        # Reshape images to (batch_size, input_size) and move to device\n",
        "        images = images.reshape(-1, 28*28).to(device)\n",
        "        labels = labels.to(device)\n",
        "\n",
        "        # Forward pass: compute predicted outputs by passing inputs to the model\n",
        "        outputs = model(images)\n",
        "        loss = criterion(outputs, labels)\n",
        "\n",
        "        # Backward pass and optimization\n",
        "        optimizer.zero_grad()   # Clear the gradients of all optimized variables\n",
        "        loss.backward()         # Compute gradient of the loss with respect to model parameters\n",
        "        optimizer.step()        # Perform a single optimization step (parameter update)\n",
        "\n",
        "        if (i+1) % 200 == 0:\n",
        "            print(f'Epoch [{epoch+1}/{num_epochs}], Step [{i+1}/{n_total_steps}], Loss: {loss.item():.4f}')\n",
        "\n",
        "print(\"Finished training.\")"
      ],
      "metadata": {
        "colab": {
          "base_uri": "https://localhost:8080/"
        },
        "id": "HGIKyMRlFAt5",
        "outputId": "77ecfb37-1353-49f4-c7f8-9e806b70ff35"
      },
      "execution_count": null,
      "outputs": [
        {
          "output_type": "stream",
          "name": "stdout",
          "text": [
            "\n",
            "Starting training...\n",
            "Epoch [1/15], Step [200/469], Loss: 0.3338\n",
            "Epoch [1/15], Step [400/469], Loss: 0.2195\n",
            "Epoch [2/15], Step [200/469], Loss: 0.1880\n",
            "Epoch [2/15], Step [400/469], Loss: 0.1492\n",
            "Epoch [3/15], Step [200/469], Loss: 0.1377\n",
            "Epoch [3/15], Step [400/469], Loss: 0.0558\n",
            "Epoch [4/15], Step [200/469], Loss: 0.1604\n",
            "Epoch [4/15], Step [400/469], Loss: 0.1298\n",
            "Epoch [5/15], Step [200/469], Loss: 0.0729\n",
            "Epoch [5/15], Step [400/469], Loss: 0.0332\n",
            "Epoch [6/15], Step [200/469], Loss: 0.0785\n",
            "Epoch [6/15], Step [400/469], Loss: 0.1232\n",
            "Epoch [7/15], Step [200/469], Loss: 0.1709\n",
            "Epoch [7/15], Step [400/469], Loss: 0.0614\n",
            "Epoch [8/15], Step [200/469], Loss: 0.0768\n",
            "Epoch [8/15], Step [400/469], Loss: 0.0607\n",
            "Epoch [9/15], Step [200/469], Loss: 0.1552\n",
            "Epoch [9/15], Step [400/469], Loss: 0.1552\n",
            "Epoch [10/15], Step [200/469], Loss: 0.0912\n",
            "Epoch [10/15], Step [400/469], Loss: 0.0325\n",
            "Epoch [11/15], Step [200/469], Loss: 0.0724\n",
            "Epoch [11/15], Step [400/469], Loss: 0.0516\n",
            "Epoch [12/15], Step [200/469], Loss: 0.0757\n",
            "Epoch [12/15], Step [400/469], Loss: 0.0498\n",
            "Epoch [13/15], Step [200/469], Loss: 0.0573\n",
            "Epoch [13/15], Step [400/469], Loss: 0.0557\n",
            "Epoch [14/15], Step [200/469], Loss: 0.0434\n",
            "Epoch [14/15], Step [400/469], Loss: 0.0309\n",
            "Epoch [15/15], Step [200/469], Loss: 0.0152\n",
            "Epoch [15/15], Step [400/469], Loss: 0.0507\n",
            "Finished training.\n"
          ]
        }
      ]
    },
    {
      "cell_type": "code",
      "source": [
        "# =============================================================================\n",
        "# 8. Evaluate the Model\n",
        "# =============================================================================\n",
        "print(\"\\nEvaluating model on test data...\")\n",
        "# In test phase, we don't need to compute gradients\n",
        "with torch.no_grad():\n",
        "    # Set the model to evaluation mode\n",
        "    model.eval()\n",
        "    n_correct = 0\n",
        "    n_samples = 0\n",
        "    for images, labels in test_loader:\n",
        "        images = images.reshape(-1, 28*28).to(device)\n",
        "        labels = labels.to(device)\n",
        "\n",
        "        outputs = model(images)\n",
        "\n",
        "        # torch.max returns (value, index)\n",
        "        _, predicted = torch.max(outputs.data, 1)\n",
        "        n_samples += labels.size(0)\n",
        "        n_correct += (predicted == labels).sum().item()\n",
        "\n",
        "    acc = 100.0 * n_correct / n_samples\n",
        "    print(f'Accuracy of the network on the 10,000 test images: {acc:.2f} %')"
      ],
      "metadata": {
        "colab": {
          "base_uri": "https://localhost:8080/"
        },
        "id": "kY51x8lcFJvo",
        "outputId": "32f1750b-9736-48cb-d047-5347d21dbd97"
      },
      "execution_count": null,
      "outputs": [
        {
          "output_type": "stream",
          "name": "stdout",
          "text": [
            "\n",
            "Evaluating model on test data...\n",
            "Accuracy of the network on the 10,000 test images: 97.72 %\n"
          ]
        }
      ]
    }
  ],
  "metadata": {
    "colab": {
      "provenance": [],
      "include_colab_link": true
    },
    "kernelspec": {
      "display_name": "Python 3",
      "name": "python3"
    }
  },
  "nbformat": 4,
  "nbformat_minor": 0
}
