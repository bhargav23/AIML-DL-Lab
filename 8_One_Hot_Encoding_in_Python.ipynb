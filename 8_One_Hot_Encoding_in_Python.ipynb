{
  "cells": [
    {
      "cell_type": "markdown",
      "metadata": {
        "id": "view-in-github",
        "colab_type": "text"
      },
      "source": [
        "<a href=\"https://colab.research.google.com/github/bhargav23/AIML-DL-Lab/blob/main/8_One_Hot_Encoding_in_Python.ipynb\" target=\"_parent\"><img src=\"https://colab.research.google.com/assets/colab-badge.svg\" alt=\"Open In Colab\"/></a>"
      ]
    },
    {
      "cell_type": "markdown",
      "source": [
        "**8. Implement one hot encoding of words or characters.**"
      ],
      "metadata": {
        "id": "SWQYcmz0hVOz"
      }
    },
    {
      "cell_type": "code",
      "source": [
        "import numpy as np\n",
        "\n",
        "def one_hot_encode_words(text):\n",
        "    \"\"\"\n",
        "    Performs one-hot encoding on words in a given text.\n",
        "\n",
        "    Args:\n",
        "        text (str): The input string to be encoded.\n",
        "\n",
        "    Returns:\n",
        "        tuple: A tuple containing:\n",
        "            - dict: A dictionary mapping each word to its one-hot encoded vector.\n",
        "            - dict: The vocabulary mapping each word to its index.\n",
        "            - np.ndarray: A numpy array of all the one-hot encoded vectors.\n",
        "    \"\"\"\n",
        "    # 1. Tokenize the text into words (and convert to lowercase)\n",
        "    words = text.lower().split()\n",
        "\n",
        "    # 2. Create a vocabulary of unique words\n",
        "    # Using a set gets unique words, then converting to a list to maintain order\n",
        "    unique_words = sorted(list(set(words)))\n",
        "\n",
        "    # 3. Create a mapping from word to integer index\n",
        "    word_to_int = {word: i for i, word in enumerate(unique_words)}\n",
        "\n",
        "    # 4. Create a mapping from integer index to word (for reference)\n",
        "    int_to_word = {i: word for i, word in enumerate(unique_words)}\n",
        "\n",
        "    # 5. Get the size of the vocabulary\n",
        "    vocab_size = len(unique_words)\n",
        "    print(f\"Vocabulary Size (Words): {vocab_size}\")\n",
        "    print(f\"Word to Index Mapping: {word_to_int}\\n\")\n",
        "\n",
        "    # 6. Generate one-hot vectors\n",
        "    one_hot_encoded_vectors = {}\n",
        "    all_vectors = []\n",
        "    for word in words:\n",
        "        # Create a vector of zeros with length equal to vocabulary size\n",
        "        vector = np.zeros(vocab_size, dtype=int)\n",
        "        # Get the index of the current word\n",
        "        word_index = word_to_int[word]\n",
        "        # Set the element at that index to 1\n",
        "        vector[word_index] = 1\n",
        "        one_hot_encoded_vectors[word] = vector\n",
        "        all_vectors.append(vector)\n",
        "\n",
        "    return one_hot_encoded_vectors, word_to_int, np.array(all_vectors)"
      ],
      "outputs": [],
      "execution_count": 1,
      "metadata": {
        "id": "UxNwEf4Of5TS"
      }
    },
    {
      "cell_type": "code",
      "source": [
        "# --- 1. One-Hot Encoding for Words ---\n",
        "print(\"--- Word One-Hot Encoding Example ---\")\n",
        "sentence = \"The cat sat on the mat\"\n",
        "word_vectors, word_vocab, word_array = one_hot_encode_words(sentence)\n"
      ],
      "metadata": {
        "colab": {
          "base_uri": "https://localhost:8080/"
        },
        "id": "I2mNQfJRgxyF",
        "outputId": "42b1772e-1bbd-4e60-abaa-128179616014"
      },
      "execution_count": 2,
      "outputs": [
        {
          "output_type": "stream",
          "name": "stdout",
          "text": [
            "--- Word One-Hot Encoding Example ---\n",
            "Vocabulary Size (Words): 5\n",
            "Word to Index Mapping: {'cat': 0, 'mat': 1, 'on': 2, 'sat': 3, 'the': 4}\n",
            "\n"
          ]
        }
      ]
    },
    {
      "cell_type": "code",
      "source": [
        "print(\"Original Sentence:\", sentence)\n",
        "for word, vector in word_vectors.items():\n",
        "    print(f\"'{word}': {vector}\")"
      ],
      "metadata": {
        "colab": {
          "base_uri": "https://localhost:8080/"
        },
        "id": "6VvgdrgahAqi",
        "outputId": "725e5c96-f558-4489-a636-47928511338b"
      },
      "execution_count": 3,
      "outputs": [
        {
          "output_type": "stream",
          "name": "stdout",
          "text": [
            "Original Sentence: The cat sat on the mat\n",
            "'the': [0 0 0 0 1]\n",
            "'cat': [1 0 0 0 0]\n",
            "'sat': [0 0 0 1 0]\n",
            "'on': [0 0 1 0 0]\n",
            "'mat': [0 1 0 0 0]\n"
          ]
        }
      ]
    },
    {
      "cell_type": "code",
      "source": [
        "# You can also see the full sequence of vectors\n",
        "print(\"\\nEncoded sequence of vectors for the sentence:\")\n",
        "print(word_array)\n",
        "print(\"-\" * 40 + \"\\n\")"
      ],
      "metadata": {
        "colab": {
          "base_uri": "https://localhost:8080/"
        },
        "id": "3BBqsETxhB_S",
        "outputId": "3cdc8834-8bd4-47d0-e38f-8afdb7f6e6ed"
      },
      "execution_count": 4,
      "outputs": [
        {
          "output_type": "stream",
          "name": "stdout",
          "text": [
            "\n",
            "Encoded sequence of vectors for the sentence:\n",
            "[[0 0 0 0 1]\n",
            " [1 0 0 0 0]\n",
            " [0 0 0 1 0]\n",
            " [0 0 1 0 0]\n",
            " [0 0 0 0 1]\n",
            " [0 1 0 0 0]]\n",
            "----------------------------------------\n",
            "\n"
          ]
        }
      ]
    },
    {
      "cell_type": "code",
      "source": [
        "def one_hot_encode_characters(text):\n",
        "    \"\"\"\n",
        "    Performs one-hot encoding on characters in a given text.\n",
        "\n",
        "    Args:\n",
        "        text (str): The input string to be encoded.\n",
        "\n",
        "    Returns:\n",
        "        tuple: A tuple containing:\n",
        "            - dict: A dictionary mapping each character to its one-hot encoded vector.\n",
        "            - dict: The vocabulary mapping each character to its index.\n",
        "            - np.ndarray: A numpy array of all the one-hot encoded vectors.\n",
        "    \"\"\"\n",
        "    # 1. Get the unique characters from the text\n",
        "    unique_chars = sorted(list(set(text)))\n",
        "\n",
        "    # 2. Create a mapping from character to integer index\n",
        "    char_to_int = {char: i for i, char in enumerate(unique_chars)}\n",
        "\n",
        "    # 3. Create a mapping from integer index to character (for reference)\n",
        "    int_to_char = {i: char for i, char in enumerate(unique_chars)}\n",
        "\n",
        "    # 4. Get the size of the vocabulary\n",
        "    vocab_size = len(unique_chars)\n",
        "    print(f\"Vocabulary Size (Characters): {vocab_size}\")\n",
        "    print(f\"Character to Index Mapping: {char_to_int}\\n\")\n",
        "\n",
        "    # 5. Generate one-hot vectors\n",
        "    one_hot_encoded_vectors = {}\n",
        "    all_vectors = []\n",
        "    for char in text:\n",
        "        # Create a vector of zeros\n",
        "        vector = np.zeros(vocab_size, dtype=int)\n",
        "        # Get the index of the current character\n",
        "        char_index = char_to_int[char]\n",
        "        # Set the element at that index to 1\n",
        "        vector[char_index] = 1\n",
        "        one_hot_encoded_vectors[char] = vector\n",
        "        all_vectors.append(vector)\n",
        "\n",
        "    return one_hot_encoded_vectors, char_to_int, np.array(all_vectors)"
      ],
      "metadata": {
        "id": "qtmdO2Gmgvx8"
      },
      "execution_count": 5,
      "outputs": []
    },
    {
      "cell_type": "code",
      "source": [
        "# --- 2. One-Hot Encoding for Characters ---\n",
        "print(\"--- Character One-Hot Encoding Example ---\")\n",
        "simple_word = \"hello\"\n",
        "char_vectors, char_vocab, char_array = one_hot_encode_characters(simple_word)"
      ],
      "metadata": {
        "colab": {
          "base_uri": "https://localhost:8080/"
        },
        "id": "ZpDGt8gmg1cz",
        "outputId": "cffbf4ab-fdee-419f-91e5-0021b22d426e"
      },
      "execution_count": 6,
      "outputs": [
        {
          "output_type": "stream",
          "name": "stdout",
          "text": [
            "--- Character One-Hot Encoding Example ---\n",
            "Vocabulary Size (Characters): 4\n",
            "Character to Index Mapping: {'e': 0, 'h': 1, 'l': 2, 'o': 3}\n",
            "\n"
          ]
        }
      ]
    },
    {
      "cell_type": "code",
      "source": [
        "print(\"Original Word:\", simple_word)\n",
        "# We print the vectors for unique characters to avoid repetition\n",
        "unique_chars_in_word = sorted(list(set(simple_word)))\n",
        "for char in unique_chars_in_word:\n",
        "    print(f\"'{char}': {char_vectors[char]}\")"
      ],
      "metadata": {
        "colab": {
          "base_uri": "https://localhost:8080/"
        },
        "id": "Tr2F88mihKKr",
        "outputId": "368934b4-91e2-4b71-c79b-9735f15e441a"
      },
      "execution_count": 7,
      "outputs": [
        {
          "output_type": "stream",
          "name": "stdout",
          "text": [
            "Original Word: hello\n",
            "'e': [1 0 0 0]\n",
            "'h': [0 1 0 0]\n",
            "'l': [0 0 1 0]\n",
            "'o': [0 0 0 1]\n"
          ]
        }
      ]
    },
    {
      "cell_type": "code",
      "source": [
        "print(\"\\nEncoded sequence of vectors for the word:\")\n",
        "print(char_array)\n",
        "print(\"-\" * 40)"
      ],
      "metadata": {
        "colab": {
          "base_uri": "https://localhost:8080/"
        },
        "id": "JZLp08PNhLpi",
        "outputId": "4d287b99-5e03-4179-ed06-34d7b7e931ec"
      },
      "execution_count": 8,
      "outputs": [
        {
          "output_type": "stream",
          "name": "stdout",
          "text": [
            "\n",
            "Encoded sequence of vectors for the word:\n",
            "[[0 1 0 0]\n",
            " [1 0 0 0]\n",
            " [0 0 1 0]\n",
            " [0 0 1 0]\n",
            " [0 0 0 1]]\n",
            "----------------------------------------\n"
          ]
        }
      ]
    }
  ],
  "metadata": {
    "colab": {
      "provenance": [],
      "include_colab_link": true
    },
    "kernelspec": {
      "display_name": "Python 3",
      "name": "python3"
    }
  },
  "nbformat": 4,
  "nbformat_minor": 0
}